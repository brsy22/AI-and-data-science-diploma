{
 "cells": [
  {
   "cell_type": "markdown",
   "id": "d547d68f",
   "metadata": {},
   "source": [
    "### Task 1\n",
    "# Add two numbers"
   ]
  },
  {
   "cell_type": "code",
   "execution_count": null,
   "id": "abf62f4d",
   "metadata": {},
   "outputs": [],
   "source": [
    "a = float(input('Enter first number: '))\n",
    "b = float(input('Enter second number: '))\n",
    "print('Sum:', a + b)"
   ]
  },
  {
   "cell_type": "markdown",
   "id": "a5354f1a",
   "metadata": {},
   "source": [
    "### Task 2\n",
    "# Check if a number is even or odd"
   ]
  },
  {
   "cell_type": "code",
   "execution_count": null,
   "id": "ed42a45a",
   "metadata": {},
   "outputs": [],
   "source": [
    "num = int(input('Enter an integer: '))\n",
    "if num % 2 == 0:\n",
    "    print('Even')\n",
    "else:\n",
    "    print('Odd')"
   ]
  },
  {
   "cell_type": "markdown",
   "id": "3dd40f6a",
   "metadata": {},
   "source": [
    "### Task 3\n",
    "# Print even numbers from 1 to 20"
   ]
  },
  {
   "cell_type": "code",
   "execution_count": null,
   "id": "1f489a5b",
   "metadata": {},
   "outputs": [],
   "source": [
    "for i in range(1, 21):\n",
    "    if i % 2 == 0:\n",
    "        print(i, end=' ')\n",
    "print()"
   ]
  },
  {
   "cell_type": "markdown",
   "id": "59a59996",
   "metadata": {},
   "source": [
    "### Task 4\n",
    "# Count vowels in a string"
   ]
  },
  {
   "cell_type": "code",
   "execution_count": null,
   "id": "70acaefe",
   "metadata": {},
   "outputs": [],
   "source": [
    "def count_vowels(s):\n",
    "    vowels = 'aeiouAEIOU'\n",
    "    return sum(1 for char in s if char in vowels)\n",
    "\n",
    "string = input('Enter a string: ')\n",
    "print('Number of vowels:', count_vowels(string))"
   ]
  },
  {
   "cell_type": "markdown",
   "id": "b016e228",
   "metadata": {},
   "source": [
    "### Task 5\n",
    "# Print squares of numbers from 1 to 10"
   ]
  },
  {
   "cell_type": "code",
   "execution_count": null,
   "id": "812f18df",
   "metadata": {},
   "outputs": [],
   "source": [
    "numbers = list(range(1, 11))\n",
    "for num in numbers:\n",
    "    print(f'{num}^2 = {num ** 2}')"
   ]
  },
  {
   "cell_type": "markdown",
   "id": "853d0e7c",
   "metadata": {},
   "source": [
    "### Task 6\n",
    "# Calculate the average grade for a student"
   ]
  },
  {
   "cell_type": "code",
   "execution_count": null,
   "id": "80991ad0",
   "metadata": {},
   "outputs": [],
   "source": [
    "name = input('Enter student\\'s name: ')\n",
    "subjects, scores = [], []\n",
    "\n",
    "n = int(input('Enter number of subjects: '))\n",
    "for i in range(n):\n",
    "    subject = input(f'Enter name of subject {i+1}: ')\n",
    "    score = float(input(f'Enter score for {subject}: '))\n",
    "    subjects.append(subject)\n",
    "    scores.append(score)\n",
    "\n",
    "average = sum(scores) / len(scores)\n",
    "print(f'Average score for {name} is {average:.2f}')\n",
    "if average > 70:\n",
    "    print('Congratulations! Keep it up!')\n",
    "else:\n",
    "    print('Don\\'t give up, you can do better!')"
   ]
  },
  {
   "cell_type": "markdown",
   "id": "2377a488",
   "metadata": {},
   "source": [
    "### Task 7\n",
    "# Find Common Elements"
   ]
  },
  {
   "cell_type": "code",
   "execution_count": null,
   "id": "93e04290",
   "metadata": {},
   "outputs": [],
   "source": [
    "def find_common_elements(list1, list2):\n",
    "    return [element for element in list1 if element in list2]\n",
    "\n",
    "a = [1, 2, 3, 4]\n",
    "b = [3, 4, 5, 6]\n",
    "print('Common elements:', find_common_elements(a, b))"
   ]
  },
  {
   "cell_type": "markdown",
   "id": "b597e84b",
   "metadata": {},
   "source": [
    "### Task 8\n",
    "# Remove an element from a list"
   ]
  },
  {
   "cell_type": "code",
   "execution_count": null,
   "id": "8dac18db",
   "metadata": {},
   "outputs": [],
   "source": [
    "def remove_element(lst, element):\n",
    "    if element in lst:\n",
    "        lst.remove(element)\n",
    "    return lst\n",
    "\n",
    "nums = [1, 2, 3, 4, 3]\n",
    "el = 3\n",
    "print('Updated list:', remove_element(nums, el))"
   ]
  },
  {
   "cell_type": "markdown",
   "id": "227458c7",
   "metadata": {},
   "source": [
    "### Task 9\n",
    "# Print the last 2 digits from the multiplication of 4 numbers"
   ]
  },
  {
   "cell_type": "code",
   "execution_count": null,
   "id": "28dc8d98",
   "metadata": {},
   "outputs": [],
   "source": [
    "A, B, C, D = int(input()), int(input()), int(input()), int(input())\n",
    "print('Last two digits:', (A * B * C * D) % 100)"
   ]
  },
  {
   "cell_type": "markdown",
   "id": "19337941",
   "metadata": {},
   "source": [
    "### Task 10\n",
    "# Check if a number is prime"
   ]
  },
  {
   "cell_type": "code",
   "execution_count": null,
   "id": "d0c297bd",
   "metadata": {},
   "outputs": [],
   "source": [
    "def is_prime(n):\n",
    "    if n <= 1:\n",
    "        return False\n",
    "    for i in range(2, int(n**0.5) + 1):\n",
    "        if n % i == 0:\n",
    "            return False\n",
    "    return True\n",
    "\n",
    "x = int(input('Enter a number: '))\n",
    "print(f'{x} is prime' if is_prime(x) else f'{x} is not prime')"
   ]
  },
  {
   "cell_type": "markdown",
   "id": "afa74aa4",
   "metadata": {},
   "source": [
    "### Task 11\n",
    "# Find the position of an element in a list"
   ]
  },
  {
   "cell_type": "code",
   "execution_count": null,
   "id": "f95c1c6d",
   "metadata": {},
   "outputs": [],
   "source": [
    "n = int(input('Enter the number of elements: '))\n",
    "A = list(map(int, input().split()))\n",
    "X = int(input('Enter the number to search for: '))\n",
    "print(A.index(X) if X in A else 'Not found')"
   ]
  },
  {
   "cell_type": "markdown",
   "id": "3df5c368",
   "metadata": {},
   "source": [
    "### Task 12\n",
    "# Check if the array is lucky"
   ]
  },
  {
   "cell_type": "code",
   "execution_count": null,
   "id": "56987b8f",
   "metadata": {},
   "outputs": [],
   "source": [
    "n = int(input())\n",
    "A = list(map(int, input().split()))\n",
    "print('Lucky' if A.count(min(A)) % 2 == 1 else 'Not Lucky')"
   ]
  },
  {
   "cell_type": "markdown",
   "id": "a759fc5f",
   "metadata": {},
   "source": [
    "### Task 13\n",
    "# Swap min and max in an array"
   ]
  },
  {
   "cell_type": "code",
   "execution_count": null,
   "id": "6ffc6cef",
   "metadata": {},
   "outputs": [],
   "source": [
    "n = int(input())\n",
    "A = list(map(int, input().split()))\n",
    "min_index, max_index = A.index(min(A)), A.index(max(A))\n",
    "A[min_index], A[max_index] = A[max_index], A[min_index]\n",
    "print(A)"
   ]
  },
  {
   "cell_type": "markdown",
   "id": "5757ce3d",
   "metadata": {},
   "source": [
    "### Task 14\n",
    "# Print the lowest number and its position"
   ]
  },
  {
   "cell_type": "code",
   "execution_count": null,
   "id": "70428769",
   "metadata": {},
   "outputs": [],
   "source": [
    "n = int(input())\n",
    "A = list(map(int, input().split()))\n",
    "print(min(A), A.index(min(A)))"
   ]
  },
  {
   "cell_type": "markdown",
   "id": "1c1de394",
   "metadata": {},
   "source": [
    "### Task 15\n",
    "# Sort an array"
   ]
  },
  {
   "cell_type": "code",
   "execution_count": null,
   "id": "13c9ea50",
   "metadata": {},
   "outputs": [],
   "source": [
    "n = int(input())\n",
    "A = list(map(int, input().split()))\n",
    "print(sorted(A))"
   ]
  },
  {
   "cell_type": "markdown",
   "id": "ab6f5bf5",
   "metadata": {},
   "source": [
    "### Task 16\n",
    "# Remove spaces from a string"
   ]
  },
  {
   "cell_type": "code",
   "execution_count": null,
   "id": "5882b252",
   "metadata": {},
   "outputs": [],
   "source": [
    "print(input().replace(' ', ''))"
   ]
  },
  {
   "cell_type": "markdown",
   "id": "20bebf30",
   "metadata": {},
   "source": [
    "### Task 17\n",
    "# Swap first and last element of a list"
   ]
  },
  {
   "cell_type": "code",
   "execution_count": null,
   "id": "82c65523",
   "metadata": {},
   "outputs": [],
   "source": [
    "n = int(input())\n",
    "A = list(map(int, input().split()))\n",
    "A[0], A[-1] = A[-1], A[0]\n",
    "print(A)"
   ]
  },
  {
   "cell_type": "markdown",
   "id": "ecd8b2d3",
   "metadata": {},
   "source": [
    "### Task 18\n",
    "# Find HCF of a list of numbers"
   ]
  },
  {
   "cell_type": "code",
   "execution_count": null,
   "id": "89a87628",
   "metadata": {},
   "outputs": [],
   "source": [
    "from math import gcd\n",
    "from functools import reduce\n",
    "n = int(input())\n",
    "numbers = list(map(int, input().split()))\n",
    "print(reduce(gcd, numbers))"
   ]
  }
 ],
 "metadata": {},
 "nbformat": 4,
 "nbformat_minor": 5
}
