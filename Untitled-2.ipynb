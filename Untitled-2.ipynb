{
 "cells": [
  {
   "cell_type": "markdown",
   "metadata": {},
   "source": [
    "1- Write a Python program to find the area of a triangle"
   ]
  },
  {
   "cell_type": "code",
   "execution_count": null,
   "metadata": {},
   "outputs": [],
   "source": [
    "base=int(input(\"enter triangle base: \"))\n",
    "height=int(input(\"enter triangle height: \"))\n",
    "area=1/2*base*height\n",
    "print(f\"the area of the triangle is {area}\")"
   ]
  },
  {
   "cell_type": "markdown",
   "metadata": {},
   "source": [
    "2- Write a Python program to swap two variables."
   ]
  },
  {
   "cell_type": "code",
   "execution_count": null,
   "metadata": {},
   "outputs": [
    {
     "name": "stdout",
     "output_type": "stream",
     "text": [
      "20 2\n"
     ]
    }
   ],
   "source": [
    "variable1=input(\"enter the first variable : \")\n",
    "variable2=input(\"enter the second variable : \")\n",
    "variable3=variable1\n",
    "variable1=variable2\n",
    "variable2=variable3\n",
    "print(f' first variable {variable1} second variable {variable2}')"
   ]
  },
  {
   "cell_type": "markdown",
   "metadata": {},
   "source": [
    "swap numbers without a third variable"
   ]
  },
  {
   "cell_type": "code",
   "execution_count": null,
   "metadata": {},
   "outputs": [
    {
     "name": "stdout",
     "output_type": "stream",
     "text": [
      "23\n",
      "30\n"
     ]
    }
   ],
   "source": [
    "number1=int(input())\n",
    "number2=int(input())\n",
    "number1=number1+number2\n",
    "number2=number1-number2\n",
    "number1=number1-number2\n",
    "print(number1)\n",
    "print(number2)"
   ]
  },
  {
   "cell_type": "markdown",
   "metadata": {},
   "source": [
    "3-Write a Python program to enter a number from user and convert this number from kilometers to miles."
   ]
  },
  {
   "cell_type": "code",
   "execution_count": 11,
   "metadata": {},
   "outputs": [
    {
     "name": "stdout",
     "output_type": "stream",
     "text": [
      "value in miles;  0.62137\n"
     ]
    }
   ],
   "source": [
    "kilometers=int(input(\"entre distance in kilometers: \"))\n",
    "miles=kilometers*0.62137\n",
    "print(f\"value in miles;  {miles}\") "
   ]
  }
 ],
 "metadata": {
  "kernelspec": {
   "display_name": "Python 3",
   "language": "python",
   "name": "python3"
  },
  "language_info": {
   "codemirror_mode": {
    "name": "ipython",
    "version": 3
   },
   "file_extension": ".py",
   "mimetype": "text/x-python",
   "name": "python",
   "nbconvert_exporter": "python",
   "pygments_lexer": "ipython3",
   "version": "3.12.3"
  }
 },
 "nbformat": 4,
 "nbformat_minor": 2
}
