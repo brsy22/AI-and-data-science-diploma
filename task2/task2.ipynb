{
 "cells": [
  {
   "cell_type": "markdown",
   "id": "21cc2e03",
   "metadata": {},
   "source": [
    "# Python Programs"
   ]
  },
  {
   "cell_type": "markdown",
   "id": "f512d55d",
   "metadata": {},
   "source": [
    "## 1. Absolute Value of a Number"
   ]
  },
  {
   "cell_type": "code",
   "execution_count": null,
   "id": "b45b7a12",
   "metadata": {},
   "outputs": [],
   "source": [
    "num = float(input(\"Enter a number: \"))\n",
    "print(\"Absolute value:\", abs(num))"
   ]
  },
  {
   "cell_type": "markdown",
   "id": "d8836ebb",
   "metadata": {},
   "source": [
    "## 2. Check Leap Year"
   ]
  },
  {
   "cell_type": "code",
   "execution_count": null,
   "id": "cd65b9bf",
   "metadata": {},
   "outputs": [],
   "source": [
    "year = int(input(\"Enter a year: \"))\n",
    "\n",
    "if (year % 4 == 0 and year % 100 != 0) or (year % 400 == 0):\n",
    "    print(year, \"is a leap year.\")\n",
    "else:\n",
    "    print(year, \"is not a leap year.\")"
   ]
  },
  {
   "cell_type": "markdown",
   "id": "165cfe5b",
   "metadata": {},
   "source": [
    "## 3. Find Oldest and Youngest Among Three People"
   ]
  },
  {
   "cell_type": "code",
   "execution_count": null,
   "id": "deab57e2",
   "metadata": {},
   "outputs": [],
   "source": [
    "age1 = int(input(\"Enter the age of first person: \"))\n",
    "age2 = int(input(\"Enter the age of second person: \"))\n",
    "age3 = int(input(\"Enter the age of third person: \"))\n",
    "\n",
    "oldest = max(age1, age2, age3)\n",
    "youngest = min(age1, age2, age3)\n",
    "\n",
    "print(\"Oldest person is\", oldest, \"years old.\")\n",
    "print(\"Youngest person is\", youngest, \"years old.\")"
   ]
  },
  {
   "cell_type": "markdown",
   "id": "71581b5b",
   "metadata": {},
   "source": [
    "## 4. Sum of Positive Numbers Until a Negative Number is Entered"
   ]
  },
  {
   "cell_type": "code",
   "execution_count": null,
   "id": "e9959e0e",
   "metadata": {},
   "outputs": [],
   "source": [
    "total = 0\n",
    "\n",
    "while True:\n",
    "    num = float(input(\"Enter a number (negative to stop): \"))\n",
    "    \n",
    "    if num < 0:\n",
    "        break  # Exit the loop if a negative number is entered\n",
    "    \n",
    "    total += num  # Add positive number to total\n",
    "\n",
    "print(\"Sum of all positive numbers:\", total)"
   ]
  },
  {
   "cell_type": "markdown",
   "id": "5759d561",
   "metadata": {},
   "source": [
    "## 5. Check Voting Eligibility"
   ]
  },
  {
   "cell_type": "code",
   "execution_count": null,
   "id": "1615cf0d",
   "metadata": {},
   "outputs": [],
   "source": [
    "name = input(\"Enter your name: \")\n",
    "age = int(input(\"Enter your age: \"))\n",
    "\n",
    "if age >= 18:\n",
    "    print(f\"Hello {name}, you are eligible to vote.\")\n",
    "else:\n",
    "    print(f\"Hello {name}, you are not eligible to vote as you are underage.\")"
   ]
  },
  {
   "cell_type": "markdown",
   "id": "8c90b271",
   "metadata": {},
   "source": [
    "## 6. Find Factorial of a Number"
   ]
  },
  {
   "cell_type": "code",
   "execution_count": null,
   "id": "2ab94958",
   "metadata": {},
   "outputs": [],
   "source": [
    "num = int(input(\"Enter a number: \"))\n",
    "\n",
    "factorial = 1\n",
    "\n",
    "if num < 0:\n",
    "    print(\"Factorial is not defined for negative numbers.\")\n",
    "elif num == 0 or num == 1:\n",
    "    print(f\"The factorial of {num} is 1.\")\n",
    "else:\n",
    "    for i in range(2, num + 1):\n",
    "        factorial *= i\n",
    "    print(f\"The factorial of {num} is {factorial}.\")"
   ]
  }
 ],
 "metadata": {},
 "nbformat": 4,
 "nbformat_minor": 5
}