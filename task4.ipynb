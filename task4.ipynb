{
  "cells": [
    {
      "cell_type": "markdown",
      "id": "759d04ba",
      "metadata": {
        "id": "759d04ba"
      },
      "source": [
        "**1-Write a Python program to calculate the length of a string using 2 ways"
      ]
    },
    {
      "cell_type": "code",
      "execution_count": null,
      "id": "e434c950",
      "metadata": {
        "id": "e434c950"
      },
      "outputs": [],
      "source": [
        "text = \"hello world\"\n",
        "length = len(text)\n",
        "print(length)"
      ]
    },
    {
      "cell_type": "code",
      "execution_count": null,
      "id": "031bb7f6",
      "metadata": {},
      "outputs": [],
      "source": [
        "text = \"hello world\"\n",
        "count = 0\n",
        "for _ in text:\n",
        "    count += 1\n",
        "print(count)"
      ]
    },
    {
      "cell_type": "markdown",
      "id": "d7cc9da7",
      "metadata": {
        "id": "d7cc9da7"
      },
      "source": [
        "**2-Write a Python program to get a string made of the first 2 and last 2 characters of a given string. If the string length is less than 2, return the empty string instead (\"##Sample String : 'w3resource'\n",
        "Expected Result : 'w3ce'\n",
        "##Sample String : 'w3'\n",
        "Expected Result : 'w3w3'\n",
        "##Sample String : ' w'\n",
        "Expected Result : Empty String)"
      ]
    },
    {
      "cell_type": "code",
      "execution_count": null,
      "id": "dafa9dd8",
      "metadata": {
        "id": "dafa9dd8"
      },
      "outputs": [],
      "source": [
        "s = input(\"Enter a string: \")\n",
        "if len(s) < 2:\n",
        "    print(\"Empty String\")\n",
        "else:\n",
        "    result = s[:2] + s[-2:]\n",
        "    print(f\"Result: '{result}'\")"
      ]
    },
    {
      "cell_type": "markdown",
      "id": "1534f956",
      "metadata": {
        "id": "1534f956"
      },
      "source": [
        "**3-Write a Python program to add 'ing' at the end of a given string (length should be at least 3). If the given string already ends with 'ing', add 'ly' instead. If the string length of the given string is less than 3, leave it unchanged. (Sample String : 'abc'\n",
        "Expected Result : 'abcing')"
      ]
    },
    {
      "cell_type": "code",
      "execution_count": null,
      "id": "7ff8cec4",
      "metadata": {
        "id": "7ff8cec4"
      },
      "outputs": [],
      "source": [
        "s = input(\"Enter a string: \")\n",
        "if len(s) < 3:\n",
        "    print(f\"Result: '{s}'\")\n",
        "elif s.endswith(\"ing\"):\n",
        "    print(f\"Result: '{s}ly'\")\n",
        "else:\n",
        "    print(f\"Result: '{s}ing'\")"
      ]
    },
    {
      "cell_type": "markdown",
      "id": "1c0a6627",
      "metadata": {
        "id": "1c0a6627"
      },
      "source": [
        "**4-Write a Python function that takes a list of words and return the longest word and the length of the longest one\n",
        "(Longest word: Exercises\n",
        "Length of the longest word: 9)"
      ]
    },
    {
      "cell_type": "code",
      "execution_count": null,
      "id": "397341d9",
      "metadata": {
        "id": "397341d9"
      },
      "outputs": [],
      "source": [
        "def find_longest_word(words):\n",
        "    longest = max(words, key=len, default=\"\")\n",
        "    length = len(longest)\n",
        "    return longest, length\n",
        "\n",
        "words = input(\"Enter words (space-separated): \").split()\n",
        "longest, length = find_longest_word(words)\n",
        "print(f\"Longest word: {longest}\")\n",
        "print(f\"Length of the longest word: {length}\")"
      ]
    },
    {
      "cell_type": "markdown",
      "id": "53a03a6a",
      "metadata": {
        "id": "53a03a6a"
      },
      "source": [
        "**5-Write a Python program to change a given string to a newly string where the first and last chars have been exchanged using 2 ways (Sample String:abca  Expected Result:ebce)"
      ]
    },
    {
      "cell_type": "code",
      "execution_count": null,
      "id": "fd327d2a",
      "metadata": {
        "id": "fd327d2a"
      },
      "outputs": [],
      "source": [
        "s = input(\"Enter a string: \")\n",
        "if len(s) < 2:\n",
        "    result1 = s\n",
        "else:\n",
        "    result1 = s[-1] + s[1:-1] + s[0]"
      ]
    },
    {
      "cell_type": "code",
      "execution_count": null,
      "id": "285788b4",
      "metadata": {
        "id": "285788b4"
      },
      "outputs": [],
      "source": [
        "s = input(\"Enter a string: \")\n",
        "chars = list(s)\n",
        "if len(s) >= 2:\n",
        "    chars[0], chars[-1] = chars[-1], chars[0]\n",
        "result2 = \"\".join(chars)\n",
        "\n",
        "print(f\"Method 1 (slicing): '{result1}'\")\n",
        "print(f\"Method 2 (list swap): '{result2}'\")\n",
        "print(\"Same result!\" if result1 == result2 else \"Different results!\")"
      ]
    },
    {
      "cell_type": "markdown",
      "id": "25f89808",
      "metadata": {
        "id": "25f89808"
      },
      "source": [
        "**6-Write a Python program to remove characters that have odd index values in a given string (Sample String:abca Expected Result:ac)"
      ]
    },
    {
      "cell_type": "code",
      "execution_count": null,
      "id": "05959bd7",
      "metadata": {
        "id": "05959bd7"
      },
      "outputs": [],
      "source": [
        "def remove_odd_index_chars(input_string):\n",
        "    \n",
        "    result = input_string[::2]\n",
        "    return result\n",
        "sample_string = \"abca\"\n",
        "expected_result = remove_odd_index_chars(sample_string)\n",
        "print(\"Result:\", expected_result)"
      ]
    },
    {
      "cell_type": "markdown",
      "id": "eb16e898",
      "metadata": {
        "id": "eb16e898"
      },
      "source": [
        "**7-Write a Python program to count the occurrences of each word in a given sentence (Sample String:amr and ahmed are frindes but amr is the tallest Expected Result:2)"
      ]
    },
    {
      "cell_type": "code",
      "execution_count": null,
      "id": "01ce6cf5",
      "metadata": {
        "id": "01ce6cf5"
      },
      "outputs": [],
      "source": [
        "sentence = input(\"Enter a sentence: \")\n",
        "words = sentence.split()\n",
        "word_counts = {word: words.count(word) for word in set(words)}\n",
        "print(\"Word counts:\")\n",
        "for word, count in word_counts.items():\n",
        "    print(f\"'{word}': {count}\")"
      ]
    },
    {
      "cell_type": "markdown",
      "id": "4e8125f1",
      "metadata": {
        "id": "4e8125f1"
      },
      "source": [
        "**8-Write a Python script that takes input from the user and displays that input back in upper and lower cases"
      ]
    },
    {
      "cell_type": "code",
      "execution_count": null,
      "id": "66c8f778",
      "metadata": {
        "id": "66c8f778"
      },
      "outputs": [],
      "source": [
        "s = input(\"Enter a string: \")\n",
        "print(f\"Upper case: {s.upper()}\")\n",
        "print(f\"Lower case: {s.lower()}\")"
      ]
    },
    {
      "cell_type": "markdown",
      "id": "fcd68aa1",
      "metadata": {
        "id": "fcd68aa1"
      },
      "source": [
        "**9-Write a Python function to reverse a string if its length is a multiple of 4"
      ]
    },
    {
      "cell_type": "code",
      "execution_count": null,
      "id": "0671a931",
      "metadata": {
        "id": "0671a931"
      },
      "outputs": [],
      "source": [
        "def reverse_if_multiple_of_four(s):\n",
        "    if len(s) % 4 == 0:\n",
        "        return s[::-1]\n",
        "    return s\n",
        "\n",
        "s = input(\"Enter a string: \")\n",
        "result = reverse_if_multiple_of_four(s)\n",
        "print(f\"Result: '{result}'\")"
      ]
    },
    {
      "cell_type": "markdown",
      "id": "b577c68d",
      "metadata": {
        "id": "b577c68d"
      },
      "source": [
        "**10- Write a Python program to remove a newline in Python"
      ]
    },
    {
      "cell_type": "code",
      "execution_count": null,
      "id": "e0c6525a",
      "metadata": {
        "id": "e0c6525a"
      },
      "outputs": [],
      "source": [
        "s = input(\"Enter a string (with newlines if you want): \")\n",
        "result = s.replace(\"\\n\", \"\")\n",
        "print(f\"Result: '{result}'\")"
      ]
    },
    {
      "cell_type": "markdown",
      "id": "80db5ae0",
      "metadata": {
        "id": "80db5ae0"
      },
      "source": [
        "**11-Write a Python program to check whether a string starts with specified characters"
      ]
    },
    {
      "cell_type": "code",
      "execution_count": null,
      "id": "0cc4e03e",
      "metadata": {
        "id": "0cc4e03e"
      },
      "outputs": [],
      "source": [
        "s = input(\"Enter a string: \")\n",
        "chars = input(\"Enter characters to check if string starts with: \")\n",
        "result = s.startswith(chars)\n",
        "print(f\"Does '{s}' start with '{chars}'? {result}\")"
      ]
    },
    {
      "cell_type": "markdown",
      "id": "593a68db",
      "metadata": {
        "id": "593a68db"
      },
      "source": [
        "**12- Write a Python program to add prefix text to all of the lines in a string"
      ]
    },
    {
      "cell_type": "code",
      "execution_count": null,
      "id": "d2e46ada",
      "metadata": {
        "id": "d2e46ada"
      },
      "outputs": [],
      "source": [
        "s = input(\"Enter a string (use \\\\n for newlines): \")\n",
        "prefix = input(\"Enter prefix text: \")\n",
        "lines = s.split(\"\\n\")\n",
        "result = \"\\n\".join(prefix + line for line in lines)\n",
        "print(f\"Result: '{result}'\")"
      ]
    },
    {
      "cell_type": "markdown",
      "id": "86fa1543",
      "metadata": {
        "id": "86fa1543"
      },
      "source": [
        "**13-Write a Python program to print the following numbers up to 2 decimal places"
      ]
    },
    {
      "cell_type": "code",
      "execution_count": null,
      "id": "cd4a9d89",
      "metadata": {
        "id": "cd4a9d89"
      },
      "outputs": [],
      "source": [
        "numbers = input(\"Enter numbers (space-separated): \").split()\n",
        "numbers = [float(num) for num in numbers]\n",
        "for num in numbers:\n",
        "    print(f\"{num:.2f}\")"
      ]
    },
    {
      "cell_type": "markdown",
      "id": "452c0ab0",
      "metadata": {
        "id": "452c0ab0"
      },
      "source": [
        "**14-Write a Python program to print the following numbers up to 2 decimal places with a sign"
      ]
    },
    {
      "cell_type": "code",
      "execution_count": null,
      "id": "73e82479",
      "metadata": {
        "id": "73e82479"
      },
      "outputs": [],
      "source": [
        "numbers = input(\"Enter numbers (space-separated): \").split()\n",
        "numbers = [float(num) for num in numbers]\n",
        "for num in numbers:\n",
        "    print(f\"{num:+.2f}\")"
      ]
    },
    {
      "cell_type": "markdown",
      "id": "32b1811a",
      "metadata": {
        "id": "32b1811a"
      },
      "source": [
        "**15-Write a Python program to display a number with a comma separator"
      ]
    },
    {
      "cell_type": "code",
      "execution_count": null,
      "id": "f30fc0b6",
      "metadata": {
        "id": "f30fc0b6"
      },
      "outputs": [],
      "source": [
        "number = 1000000\n",
        "formatted = \"{:,}\".format(number)\n",
        "print(formatted)"
      ]
    },
    {
      "cell_type": "markdown",
      "id": "0477f487",
      "metadata": {
        "id": "0477f487"
      },
      "source": [
        "**16-Write a Python program to reverse a string using 2 ways"
      ]
    },
    {
      "cell_type": "code",
      "execution_count": null,
      "id": "aa8beec8",
      "metadata": {
        "id": "aa8beec8"
      },
      "outputs": [],
      "source": [
        "s = \"hello\"\n",
        "reversed_2 = ''.join(reversed(s))\n",
        "print(reversed_1)\n",
        "print(reversed_2)\n"
      ]
    },
    {
      "cell_type": "markdown",
      "id": "5afc3166",
      "metadata": {
        "id": "5afc3166"
      },
      "source": [
        " **17-Write a Python program to count repeated characters in a string (hint:use dictionary)"
      ]
    },
    {
      "cell_type": "code",
      "execution_count": null,
      "id": "515a469c",
      "metadata": {
        "id": "515a469c"
      },
      "outputs": [],
      "source": [
        "s = \"programming\"\n",
        "counts = {}\n",
        "\n",
        "for char in s:\n",
        "    if char in counts:\n",
        "        counts[char] += 1\n",
        "    else:\n",
        "        counts[char] = 1\n",
        "\n",
        "repeated = {k: v for k, v in counts.items() if v > 1}\n",
        "print(repeated)\n"
      ]
    },
    {
      "cell_type": "markdown",
      "id": "ae14e4e5",
      "metadata": {
        "id": "ae14e4e5"
      },
      "source": [
        "**18-Write a Python program to find the first non-repeating character in a given string"
      ]
    },
    {
      "cell_type": "code",
      "execution_count": null,
      "id": "d73778e5",
      "metadata": {
        "id": "d73778e5"
      },
      "outputs": [],
      "source": [
        "s = \"swiss\"\n",
        "counts = {}\n",
        "\n",
        "for char in s:\n",
        "    counts[char] = counts.get(char, 0) + 1\n",
        "\n",
        "for char in s:\n",
        "    if counts[char] == 1:\n",
        "        print(char)\n",
        "        break\n"
      ]
    },
    {
      "cell_type": "markdown",
      "id": "3adf5669",
      "metadata": {
        "id": "3adf5669"
      },
      "source": [
        "**19-Write a Python program to remove spaces from a given string"
      ]
    },
    {
      "cell_type": "code",
      "execution_count": null,
      "id": "b4f22602",
      "metadata": {
        "id": "b4f22602"
      },
      "outputs": [],
      "source": [
        "s = \"  remove all the spaces  \"\n",
        "no_spaces = s.replace(\" \", \"\")\n",
        "print(no_spaces)\n"
      ]
    },
    {
      "cell_type": "markdown",
      "id": "734de60c",
      "metadata": {
        "id": "734de60c"
      },
      "source": [
        "**20-Write a Python program to count the number of non-empty substrings of a given string"
      ]
    },
    {
      "cell_type": "code",
      "execution_count": null,
      "id": "ef3f2274",
      "metadata": {
        "id": "ef3f2274"
      },
      "outputs": [],
      "source": [
        "s = \"abc\"\n",
        "n = len(s)\n",
        "count = n * (n + 1) // 2\n",
        "print(count)\n"
      ]
    },
    {
      "cell_type": "markdown",
      "id": "509998e2",
      "metadata": {
        "id": "509998e2"
      },
      "source": [
        "**21-write a Python program to swap first and last element of any list."
      ]
    },
    {
      "cell_type": "code",
      "execution_count": null,
      "id": "68692d7f",
      "metadata": {
        "id": "68692d7f"
      },
      "outputs": [],
      "source": [
        "lst = [1, 2, 3, 4, 5]\n",
        "lst[0], lst[-1] = lst[-1], lst[0]\n",
        "print(lst)\n"
      ]
    },
    {
      "cell_type": "markdown",
      "id": "959e0837",
      "metadata": {
        "id": "959e0837"
      },
      "source": [
        "**22-Given a list in Python and provided the positions of the elements, write a program to swap the two elements in the list. (Input : List = [23, 65, 19, 90], pos1 = 1, pos2 = 3\n",
        "Output : [19, 65, 23, 90])"
      ]
    },
    {
      "cell_type": "code",
      "execution_count": null,
      "id": "225d8c6d",
      "metadata": {
        "id": "225d8c6d"
      },
      "outputs": [],
      "source": [
        "lst = [23, 65, 19, 90]\n",
        "pos1, pos2 = 1, 3\n",
        "lst[pos1], lst[pos2] = lst[pos2], lst[pos1]\n",
        "print(lst)\n"
      ]
    },
    {
      "cell_type": "markdown",
      "id": "66fc6682",
      "metadata": {
        "id": "66fc6682"
      },
      "source": [
        "**23- search for the all ways to know the length of the list"
      ]
    },
    {
      "cell_type": "code",
      "execution_count": null,
      "id": "d12cd6b2",
      "metadata": {},
      "outputs": [],
      "source": [
        "lst = [10, 20, 30, 40]\n",
        "\n",
        "# Way 1\n",
        "print(len(lst))\n",
        "\n",
        "# Way 2\n",
        "count = 0\n",
        "for _ in lst:\n",
        "    count += 1\n",
        "print(count)\n"
      ]
    },
    {
      "cell_type": "markdown",
      "id": "c144e9ad",
      "metadata": {},
      "source": [
        "**24-write a Python code to find the Maximum number of list of numbers."
      ]
    },
    {
      "cell_type": "code",
      "execution_count": null,
      "id": "15f342de",
      "metadata": {
        "id": "15f342de"
      },
      "outputs": [],
      "source": [
        "lst = [3, 7, 2, 9, 5]\n",
        "maximum = max(lst)\n",
        "print(maximum)\n"
      ]
    },
    {
      "cell_type": "markdown",
      "id": "4b8c0fdb",
      "metadata": {},
      "source": [
        "**25-write a Python code to find the Minimum number of list of numbers."
      ]
    },
    {
      "cell_type": "code",
      "execution_count": null,
      "id": "21f8cbd6",
      "metadata": {
        "id": "21f8cbd6"
      },
      "outputs": [],
      "source": [
        "lst = [3, 7, 2, 9, 5]\n",
        "minimum = min(lst)\n",
        "print(minimum)\n"
      ]
    },
    {
      "cell_type": "markdown",
      "id": "96822d96",
      "metadata": {
        "id": "96822d96"
      },
      "source": [
        "**26-search for if an elem is existing in list"
      ]
    },
    {
      "cell_type": "code",
      "execution_count": null,
      "id": "51ca5c9a",
      "metadata": {
        "id": "51ca5c9a"
      },
      "outputs": [],
      "source": [
        "lst = [10, 20, 30, 40]\n",
        "item = 20\n",
        "\n",
        "if item in lst:\n",
        "    print(\"Found\")\n",
        "else:\n",
        "    print(\"Not found\")\n"
      ]
    },
    {
      "cell_type": "markdown",
      "id": "d9557da7",
      "metadata": {
        "id": "d9557da7"
      },
      "source": [
        "**27- clear python list using different ways"
      ]
    },
    {
      "cell_type": "code",
      "execution_count": null,
      "id": "b69858a3",
      "metadata": {
        "id": "b69858a3"
      },
      "outputs": [],
      "source": [
        "lst = [1, 2, 3]\n",
        "\n",
        "# Way 1\n",
        "lst.clear()\n",
        "print(lst)\n",
        "\n",
        "# Way 2\n",
        "lst = [1, 2, 3]\n",
        "lst[:] = []\n",
        "print(lst)\n",
        "\n",
        "# Way 3\n",
        "lst = [1, 2, 3]\n",
        "del lst[:]\n",
        "print(lst)\n"
      ]
    },
    {
      "cell_type": "markdown",
      "id": "52160e88",
      "metadata": {
        "id": "52160e88"
      },
      "source": [
        "**28-remove duplicated elements from a list"
      ]
    },
    {
      "cell_type": "code",
      "execution_count": null,
      "id": "5e362228",
      "metadata": {
        "id": "5e362228"
      },
      "outputs": [],
      "source": [
        "lst = [1, 2, 2, 3, 4, 4, 5]\n",
        "unique = list(set(lst))\n",
        "print(unique)\n"
      ]
    },
    {
      "cell_type": "markdown",
      "id": "282337f7",
      "metadata": {
        "id": "282337f7"
      },
      "source": [
        "**29-Given list values and keys list, convert these values to key value pairs in form of list of dictionaries. (Input : test_list = [“Gfg”, 3, “is”, 8], key_list = [“name”, “id”]\n",
        "Output : [{‘name’: ‘Gfg’, ‘id’: 3}, {‘name’: ‘is’, ‘id’: 8}])"
      ]
    },
    {
      "cell_type": "code",
      "execution_count": null,
      "id": "4d4e2d28",
      "metadata": {
        "id": "4d4e2d28"
      },
      "outputs": [],
      "source": [
        "test_list = [\"Gfg\", 3, \"is\", 8]\n",
        "key_list = [\"name\", \"id\"]\n",
        "res = [dict(zip(key_list, test_list[i:i+2])) for i in range(0, len(test_list), 2)]\n",
        "print(res)\n"
      ]
    },
    {
      "cell_type": "markdown",
      "id": "c26b6e9f",
      "metadata": {
        "id": "c26b6e9f"
      },
      "source": [
        "**30-write a python program to count unique values inside a list using different ways"
      ]
    },
    {
      "cell_type": "code",
      "execution_count": null,
      "id": "72132667",
      "metadata": {
        "id": "72132667"
      },
      "outputs": [],
      "source": [
        "lst = [1, 2, 2, 3, 4, 4, 5]\n",
        "\n",
        "# Way 1\n",
        "print(len(set(lst)))\n",
        "\n",
        "# Way 2\n",
        "from collections import Counter\n",
        "counter = Counter(lst)\n",
        "print(sum(1 for count in counter.values() if count == 1))\n"
      ]
    },
    {
      "cell_type": "markdown",
      "id": "fed6677c",
      "metadata": {
        "id": "fed6677c"
      },
      "source": [
        "**31-write a python program Extract all elements with Frequency greater than K (Input : test_list = [4, 6, 4, 3, 3, 4, 3, 4, 3, 8], K = 3\n",
        "Output : [4, 3] )"
      ]
    },
    {
      "cell_type": "code",
      "execution_count": null,
      "id": "d81f3f9d",
      "metadata": {
        "id": "d81f3f9d"
      },
      "outputs": [],
      "source": [
        "lst = [4, 6, 4, 3, 3, 4, 3, 4, 3, 8]\n",
        "K = 3\n",
        "freq = {}\n",
        "for num in lst:\n",
        "    if num in freq:\n",
        "        freq[num] += 1\n",
        "    else:\n",
        "        freq[num] = 1\n",
        "result = []\n",
        "for key in freq:\n",
        "    if freq[key] > K:\n",
        "        result.append(key)\n",
        "print(result)\n",
        "\n"
      ]
    },
    {
      "cell_type": "markdown",
      "id": "caca5224",
      "metadata": {
        "id": "caca5224"
      },
      "source": [
        "**32-write a python program to find the Strongest Neighbour (Input: 1 2 2 3 4 5\n",
        "Output: 2 2 3 4 5)"
      ]
    },
    {
      "cell_type": "code",
      "execution_count": null,
      "id": "39fbd9b2",
      "metadata": {
        "id": "39fbd9b2"
      },
      "outputs": [],
      "source": [
        "arr = [1, 2, 2, 3, 4, 5]\n",
        "res = [max(arr[i], arr[i+1]) for i in range(len(arr)-1)]\n",
        "print(res)\n"
      ]
    },
    {
      "cell_type": "markdown",
      "id": "a9fa8baf",
      "metadata": {
        "id": "a9fa8baf"
      },
      "source": [
        "**33-write a Python Program to print all Possible Combinations from the three Digits (Input: [1, 2, 3]\n",
        "Output:\n",
        "1 2 3 ##\n",
        "1 3 2 ##\n",
        "2 1 3 ##\n",
        "2 3 1 ##\n",
        "3 1 2 ##\n",
        "3 2 1)"
      ]
    },
    {
      "cell_type": "code",
      "execution_count": null,
      "id": "8c520a76",
      "metadata": {
        "id": "8c520a76"
      },
      "outputs": [],
      "source": [
        "digits = [1, 2, 3]\n",
        "res = []\n",
        "\n",
        "for i in digits:\n",
        "    for j in digits:\n",
        "        for k in digits:\n",
        "            if i != j and j != k and i != k:\n",
        "                res.append([i, j, k])\n",
        "\n",
        "for combo in res:\n",
        "    print(*combo)\n"
      ]
    },
    {
      "cell_type": "markdown",
      "id": "5288bb89",
      "metadata": {
        "id": "5288bb89"
      },
      "source": [
        "**34-write a Python program to find all the Combinations in the list with the given condition (Input: test_list = [1,2,3]\n",
        "Output:\n",
        " [1], [1, 2], [1, 2, 3], [1, 3]\n",
        " [2], [2, 3], [3])"
      ]
    },
    {
      "cell_type": "code",
      "execution_count": null,
      "id": "59b89646",
      "metadata": {
        "id": "59b89646"
      },
      "outputs": [],
      "source": [
        "lst = [1, 2, 3]\n",
        "n = len(lst)\n",
        "res = []\n",
        "\n",
        "for i in range(1, 1 << n):\n",
        "    subset = []\n",
        "    for j in range(n):\n",
        "        if i & (1 << j):\n",
        "            subset.append(lst[j])\n",
        "    res.append(subset)\n",
        "\n",
        "print(res)\n"
      ]
    },
    {
      "cell_type": "markdown",
      "id": "39973705",
      "metadata": {
        "id": "39973705"
      },
      "source": [
        "**35-write a Python program to get all unique combinations of two Lists (List_1 = [\"a\",\"b\"]\n",
        "List_2 = [1,2]\n",
        "Unique_combination = [[('a',1),('b',2)],[('a',2),('b',1)]] )"
      ]
    },
    {
      "cell_type": "code",
      "execution_count": null,
      "id": "8c4ba22b",
      "metadata": {
        "id": "8c4ba22b"
      },
      "outputs": [],
      "source": [
        "list1 = [\"a\", \"b\"]\n",
        "list2 = [1, 2]\n",
        "res = []\n",
        "\n",
        "for i in range(len(list2)):\n",
        "    for j in range(len(list2)):\n",
        "        if i != j:\n",
        "            pair = [(list1[0], list2[i]), (list1[1], list2[j])]\n",
        "            res.append(pair)\n",
        "\n",
        "print(res)\n"
      ]
    },
    {
      "cell_type": "markdown",
      "id": "25199af5",
      "metadata": {
        "id": "25199af5"
      },
      "source": [
        "**36-Remove all the occurrences of an element from a list in Python (Input : 1 1 2 3 4 5 1 2 1\n",
        "\n",
        "**Output : 2 3 4 5 2)"
      ]
    },
    {
      "cell_type": "code",
      "execution_count": null,
      "id": "6dc4c2ba",
      "metadata": {
        "id": "6dc4c2ba"
      },
      "outputs": [],
      "source": [
        "lst = [1, 1, 2, 3, 4, 5, 1, 2, 1]\n",
        "to_remove = 1\n",
        "res = []\n",
        "\n",
        "for item in lst:\n",
        "    if item != to_remove:\n",
        "        res.append(item)\n",
        "\n",
        "print(res)\n"
      ]
    },
    {
      "cell_type": "markdown",
      "id": "bf1a3c93",
      "metadata": {
        "id": "bf1a3c93"
      },
      "source": [
        "**37-write a python program to Replace index elements with elements in Other List (The original list 1 is : [‘Gfg’, ‘is’, ‘best’] The original list 2 is : [0, 1, 2, 1, 0, 0, 0, 2, 1, 1, 2, 0] The lists after index elements replacements is : [‘Gfg’, ‘is’, ‘best’, ‘is’, ‘Gfg’, ‘Gfg’, ‘Gfg’, ‘best’, ‘is’, ‘is’, ‘best’, ‘Gfg’])"
      ]
    },
    {
      "cell_type": "code",
      "execution_count": null,
      "id": "fdd66a71",
      "metadata": {
        "id": "fdd66a71"
      },
      "outputs": [],
      "source": [
        "list1 = ['Gfg', 'is', 'best']\n",
        "list2 = [0, 1, 2, 1, 0, 0, 0, 2, 1, 1, 2, 0]\n",
        "res = []\n",
        "\n",
        "for index in list2:\n",
        "    res.append(list1[index])\n",
        "\n",
        "print(res)\n"
      ]
    },
    {
      "cell_type": "markdown",
      "id": "af0f56e8",
      "metadata": {
        "id": "af0f56e8"
      },
      "source": [
        "**38- write python program to Retain records with N occurrences of K(Input : test_list = [(4, 5, 5, 4), (5, 4, 3)], K = 5, N = 2\n",
        "Output : [(4, 5, 5, 4)]\n",
        "Input : test_list = [(4, 5, 5, 4), (5, 4, 3)], K = 5, N = 3\n",
        "Output : [] )"
      ]
    },
    {
      "cell_type": "code",
      "execution_count": null,
      "id": "67b06671",
      "metadata": {
        "id": "67b06671"
      },
      "outputs": [],
      "source": [
        "test_list = [(4, 5, 5, 4), (5, 4, 3)]\n",
        "K = 5\n",
        "N = 2\n",
        "res = []\n",
        "\n",
        "for tup in test_list:\n",
        "    count = 0\n",
        "    for item in tup:\n",
        "        if item == K:\n",
        "            count += 1\n",
        "    if count == N:\n",
        "        res.append(tup)\n",
        "\n",
        "print(res)\n"
      ]
    },
    {
      "cell_type": "markdown",
      "id": "de76f183",
      "metadata": {
        "id": "de76f183"
      },
      "source": [
        "**39-write a Python Program to Sort the list according to the column using lambda\n",
        "array = [[1, 3, 3], [2, 1, 2], [3, 2, 1]]\n",
        "Output :\n",
        "Sorted array specific to column 0, [[1, 3, 3], [2, 1, 2], [3, 2, 1]]\n",
        "Sorted array specific to column 1, [[2, 1, 2], [3, 2, 1], [1, 3, 3]]\n",
        "Sorted array specific to column 2, [[3, 2, 1], [2, 1, 2], [1, 3, 3]]"
      ]
    },
    {
      "cell_type": "code",
      "execution_count": null,
      "id": "dc883308",
      "metadata": {
        "id": "dc883308"
      },
      "outputs": [],
      "source": [
        "array = [[1, 3, 3], [2, 1, 2], [3, 2, 1]]\n",
        "\n",
        "def sort_by_column(arr, col_index):\n",
        "    for i in range(len(arr)):\n",
        "        for j in range(i + 1, len(arr)):\n",
        "            if arr[i][col_index] > arr[j][col_index]:\n",
        "                arr[i], arr[j] = arr[j], arr[i]\n",
        "    return arr\n",
        "\n",
        "print(\"Column 0:\", sort_by_column(array[:], 0))\n",
        "print(\"Column 1:\", sort_by_column(array[:], 1))\n",
        "print(\"Column 2:\", sort_by_column(array[:], 2))\n"
      ]
    },
    {
      "cell_type": "markdown",
      "id": "bb13445a",
      "metadata": {},
      "source": [
        "**40- write a program to Sort Python Dictionaries by Key or Value\n",
        "Input:\n",
        "{'ravi': 10, 'rajnish': 9, 'sanjeev': 15, 'yash': 2, 'suraj': 32}\n",
        "\n",
        "Output:\n",
        "{'rajnish': 9, 'ravi': 10, 'sanjeev': 15, 'suraj': 32, 'yash': 2}"
      ]
    },
    {
      "cell_type": "code",
      "execution_count": null,
      "id": "a96db4a0",
      "metadata": {
        "id": "a96db4a0"
      },
      "outputs": [],
      "source": [
        "data = {'ravi': 10, 'rajnish': 9, 'sanjeev': 15, 'yash': 2, 'suraj': 32}\n",
        "\n",
        "# Sort by key\n",
        "sorted_by_key = {}\n",
        "for k in sorted(data):\n",
        "    sorted_by_key[k] = data[k]\n",
        "print(\"Sorted by key:\", sorted_by_key)\n",
        "\n",
        "# Sort by value\n",
        "items = list(data.items())\n",
        "for i in range(len(items)):\n",
        "    for j in range(i + 1, len(items)):\n",
        "        if items[i][1] > items[j][1]:\n",
        "            items[i], items[j] = items[j], items[i]\n",
        "sorted_by_value = {}\n",
        "for k, v in items:\n",
        "    sorted_by_value[k] = v\n",
        "print(\"Sorted by value:\", sorted_by_value)\n"
      ]
    },
    {
      "cell_type": "markdown",
      "id": "ec63c23a",
      "metadata": {
        "id": "ec63c23a"
      },
      "source": [
        "**41-write python program to Remove keys with Values Greater than K ( Including mixed values )\n",
        "nput : test_dict = {‘Gfg’ : 3, ‘is’ : 7, ‘best’ : 10, ‘for’ : 6, ‘geeks’ : ‘CS’},\n",
        "K = 7\n",
        "Output : {‘Gfg’ : 3, ‘for’ : 6, ‘geeks’ : ‘CS’}"
      ]
    },
    {
      "cell_type": "code",
      "execution_count": null,
      "id": "e39c3a40",
      "metadata": {
        "id": "e39c3a40"
      },
      "outputs": [],
      "source": [
        "test_dict = {'Gfg': 3, 'is': 7, 'best': 10, 'for': 6, 'geeks': 'CS'}\n",
        "K = 7\n",
        "filtered = {}\n",
        "\n",
        "for key in test_dict:\n",
        "    value = test_dict[key]\n",
        "    if type(value) == int and value <= K:\n",
        "        filtered[key] = value\n",
        "    elif not isinstance(value, int):\n",
        "        filtered[key] = value\n",
        "\n",
        "print(filtered)\n"
      ]
    },
    {
      "cell_type": "markdown",
      "id": "f143f0fe",
      "metadata": {
        "id": "f143f0fe"
      },
      "source": [
        "**42-Write a Python program to concatenate the following dictionaries to create a new one\n",
        "\n",
        "Sample Dictionary :\n",
        "dic1={1:10, 2:20}\n",
        "dic2={3:30, 4:40}\n",
        "dic3={5:50,6:60}\n",
        "Expected Result : {1: 10, 2: 20, 3: 30, 4: 40, 5: 50, 6: 60}"
      ]
    },
    {
      "cell_type": "code",
      "execution_count": null,
      "id": "74ffdfea",
      "metadata": {
        "id": "74ffdfea"
      },
      "outputs": [],
      "source": [
        "dic1 = {1: 10, 2: 20}\n",
        "dic2 = {3: 30, 4: 40}\n",
        "dic3 = {5: 50, 6: 60}\n",
        "result = {}\n",
        "\n",
        "for d in (dic1, dic2, dic3):\n",
        "    for key in d:\n",
        "        result[key] = d[key]\n",
        "\n",
        "print(result)\n"
      ]
    },
    {
      "cell_type": "markdown",
      "id": "fb04c93c",
      "metadata": {
        "id": "fb04c93c"
      },
      "source": [
        "**43-Write a Python program to iterate over dictionaries using for loops"
      ]
    },
    {
      "cell_type": "code",
      "execution_count": null,
      "id": "6aebc470",
      "metadata": {
        "id": "6aebc470"
      },
      "outputs": [],
      "source": [
        "sample_dict = {'a': 1, 'b': 2, 'c': 3}\n",
        "\n",
        "for key in sample_dict:\n",
        "    print(\"Key:\", key, \"Value:\", sample_dict[key])\n"
      ]
    },
    {
      "cell_type": "markdown",
      "id": "5f491a9d",
      "metadata": {
        "id": "5f491a9d"
      },
      "source": [
        "**44- Write a Python script to merge two Python dictionaries"
      ]
    },
    {
      "cell_type": "code",
      "execution_count": null,
      "id": "b8a14028",
      "metadata": {
        "id": "b8a14028"
      },
      "outputs": [],
      "source": [
        "dict1 = {'x': 10, 'y': 20}\n",
        "dict2 = {'y': 25, 'z': 30}\n",
        "merged = {}\n",
        "\n",
        "for k in dict1:\n",
        "    merged[k] = dict1[k]\n",
        "for k in dict2:\n",
        "    merged[k] = dict2[k]\n",
        "\n",
        "print(merged)\n"
      ]
    },
    {
      "cell_type": "markdown",
      "id": "216fc72d",
      "metadata": {
        "id": "216fc72d"
      },
      "source": [
        "**45-Write a Python program to get the maximum and minimum values of a dictionary values"
      ]
    },
    {
      "cell_type": "code",
      "execution_count": null,
      "id": "d6883f5f",
      "metadata": {
        "id": "d6883f5f"
      },
      "outputs": [],
      "source": [
        "data = {'a': 10, 'b': 30, 'c': 5}\n",
        "values = list(data.values())\n",
        "\n",
        "max_val = values[0]\n",
        "min_val = values[0]\n",
        "\n",
        "for v in values:\n",
        "    if v > max_val:\n",
        "        max_val = v\n",
        "    if v < min_val:\n",
        "        min_val = v\n",
        "\n",
        "print(\"Max:\", max_val)\n",
        "print(\"Min:\", min_val)\n"
      ]
    },
    {
      "cell_type": "markdown",
      "id": "b6a53011",
      "metadata": {
        "id": "b6a53011"
      },
      "source": [
        "**46- Write a Python program to drop empty items from a given dictionary.\n",
        "Original Dictionary:\n",
        "{'c1': 'Red', 'c2': 'Green', 'c3': None}\n",
        "New Dictionary after dropping empty items:\n",
        "{'c1': 'Red', 'c2': 'Green'}"
      ]
    },
    {
      "cell_type": "code",
      "execution_count": null,
      "id": "b5c6fecf",
      "metadata": {
        "id": "b5c6fecf"
      },
      "outputs": [],
      "source": [
        "original = {'c1': 'Red', 'c2': 'Green', 'c3': None}\n",
        "cleaned = {}\n",
        "\n",
        "for k in original:\n",
        "    if original[k] is not None:\n",
        "        cleaned[k] = original[k]\n",
        "\n",
        "print(cleaned)\n"
      ]
    },
    {
      "cell_type": "markdown",
      "id": "46d718c7",
      "metadata": {
        "id": "46d718c7"
      },
      "source": [
        "**47-Write a Python program to create a tuple of numbers and print one item"
      ]
    },
    {
      "cell_type": "code",
      "execution_count": null,
      "id": "13216ff5",
      "metadata": {
        "id": "13216ff5"
      },
      "outputs": [],
      "source": [
        "nums = (10, 20, 30, 40)\n",
        "print(nums[2])\n"
      ]
    },
    {
      "cell_type": "markdown",
      "id": "2be5b56b",
      "metadata": {
        "id": "2be5b56b"
      },
      "source": [
        "**48-Write a Python program to unpack a tuple into several variables"
      ]
    },
    {
      "cell_type": "code",
      "execution_count": null,
      "id": "595f44be",
      "metadata": {
        "id": "595f44be"
      },
      "outputs": [],
      "source": [
        "tup = (5, 10, 15)\n",
        "a, b, c = tup\n",
        "print(\"a =\", a)\n",
        "print(\"b =\", b)\n",
        "print(\"c =\", c)\n"
      ]
    },
    {
      "cell_type": "markdown",
      "id": "392388a7",
      "metadata": {
        "id": "392388a7"
      },
      "source": [
        "**49-Write a Python program to add an item to a tuple"
      ]
    },
    {
      "cell_type": "code",
      "execution_count": null,
      "id": "54cc092e",
      "metadata": {
        "id": "54cc092e"
      },
      "outputs": [],
      "source": [
        "tup = (1, 2, 3)\n",
        "new_item = 4\n",
        "tup = tup + (new_item,)\n",
        "print(tup)\n"
      ]
    },
    {
      "cell_type": "markdown",
      "id": "3e8fd124",
      "metadata": {
        "id": "3e8fd124"
      },
      "source": [
        "**50-Write a Python program to convert a tuple to a string"
      ]
    },
    {
      "cell_type": "code",
      "execution_count": null,
      "id": "92a71ddc",
      "metadata": {
        "id": "92a71ddc"
      },
      "outputs": [],
      "source": [
        "chars = ('P', 'y', 't', 'h', 'o', 'n')\n",
        "result = ''\n",
        "for ch in chars:\n",
        "    result += ch\n",
        "print(result)\n"
      ]
    },
    {
      "cell_type": "markdown",
      "id": "f4f64ef4",
      "metadata": {
        "id": "f4f64ef4"
      },
      "source": [
        "**51-Write a Python program to convert a list to a tuple"
      ]
    },
    {
      "cell_type": "code",
      "execution_count": null,
      "id": "210d56d3",
      "metadata": {
        "id": "210d56d3"
      },
      "outputs": [],
      "source": [
        "lst = [1, 2, 3, 4]\n",
        "tpl = tuple(lst)\n",
        "print(tpl)\n"
      ]
    },
    {
      "cell_type": "markdown",
      "id": "b1e00ef7",
      "metadata": {
        "id": "b1e00ef7"
      },
      "source": [
        "**52-Write a Python program to reverse a tuple"
      ]
    },
    {
      "cell_type": "code",
      "execution_count": null,
      "id": "f45bfdc7",
      "metadata": {
        "id": "f45bfdc7"
      },
      "outputs": [],
      "source": [
        "tpl = (10, 20, 30, 40)\n",
        "reversed_tpl = tpl[::-1]\n",
        "print(reversed_tpl)"
      ]
    },
    {
      "cell_type": "markdown",
      "id": "3cd347d1",
      "metadata": {
        "id": "3cd347d1"
      },
      "source": [
        "**53-Write a Python program to replace the last value of tuples in a list.\n",
        "Sample list: [(10, 20, 40), (40, 50, 60), (70, 80, 90)]\n",
        "Expected Output: [(10, 20, 100), (40, 50, 100), (70, 80, 100)]"
      ]
    },
    {
      "cell_type": "code",
      "execution_count": null,
      "id": "3c4a2a4c",
      "metadata": {
        "id": "3c4a2a4c"
      },
      "outputs": [],
      "source": [
        "lst = [(10, 20, 40), (40, 50, 60), (70, 80, 90)]\n",
        "result = []\n",
        "\n",
        "for item in lst:\n",
        "    new_tuple = item[:-1] + (100,)\n",
        "    result.append(new_tuple)\n",
        "\n",
        "print(result)\n"
      ]
    },
    {
      "cell_type": "markdown",
      "id": "76bb7b39",
      "metadata": {
        "id": "76bb7b39"
      },
      "source": [
        "**54-Write a Python program to convert a given string list to a tuple\n",
        "Original string: python 3.0\n",
        "<class 'str'>\n",
        "Convert the said string to a tuple:\n",
        "('p', 'y', 't', 'h', 'o', 'n', '3', '.', '0')"
      ]
    },
    {
      "cell_type": "code",
      "execution_count": null,
      "id": "51951937",
      "metadata": {
        "id": "51951937"
      },
      "outputs": [],
      "source": [
        "text = \"python3.0\"\n",
        "char_tuple = tuple(text)\n",
        "print(char_tuple)\n"
      ]
    },
    {
      "cell_type": "markdown",
      "id": "5a1d5d97",
      "metadata": {
        "id": "5a1d5d97"
      },
      "source": [
        "**55-Write a Python program to calculate the average value of the numbers in a given tuple of tuples"
      ]
    },
    {
      "cell_type": "code",
      "execution_count": null,
      "id": "834e7992",
      "metadata": {
        "id": "834e7992"
      },
      "outputs": [],
      "source": [
        "data = ((10, 20), (30, 40), (50, 60))\n",
        "total = 0\n",
        "count = 0\n",
        "\n",
        "for sub in data:\n",
        "    for num in sub:\n",
        "        total += num\n",
        "        count += 1\n",
        "\n",
        "average = total / count\n",
        "print(\"Average:\", average)\n"
      ]
    },
    {
      "cell_type": "markdown",
      "id": "51edab9c",
      "metadata": {
        "id": "51edab9c"
      },
      "source": [
        "**56-Write a Python program to add member(s) to a set."
      ]
    },
    {
      "cell_type": "code",
      "execution_count": null,
      "id": "2b65df79",
      "metadata": {
        "id": "2b65df79"
      },
      "outputs": [],
      "source": [
        "s = {1, 2, 3}\n",
        "s.add(4)\n",
        "s.add(5)\n",
        "print(s)"
      ]
    },
    {
      "cell_type": "markdown",
      "id": "965590cc",
      "metadata": {
        "id": "965590cc"
      },
      "source": [
        "**57-Write a Python program to remove an item from a set if it is present in the set."
      ]
    },
    {
      "cell_type": "code",
      "execution_count": null,
      "id": "866bab28",
      "metadata": {
        "id": "866bab28"
      },
      "outputs": [],
      "source": [
        "s = {1, 2, 3, 4}\n",
        "item = 3\n",
        "if item in s:\n",
        "    s.remove(item)\n",
        "print(s)"
      ]
    },
    {
      "cell_type": "markdown",
      "id": "2b7cfed1",
      "metadata": {
        "id": "2b7cfed1"
      },
      "source": [
        "**58-Write a Python program to create an intersection,union,difference and symmetric difference of sets"
      ]
    },
    {
      "cell_type": "code",
      "execution_count": null,
      "id": "7f94b7fe",
      "metadata": {
        "id": "7f94b7fe"
      },
      "outputs": [],
      "source": [
        "a = {1, 2, 3, 4}\n",
        "b = {3, 4, 5, 6}\n",
        "\n",
        "intersection = set()\n",
        "for item in a:\n",
        "    if item in b:\n",
        "        intersection.add(item)\n",
        "\n",
        "union = a.copy()\n",
        "for item in b:\n",
        "    union.add(item)\n",
        "\n",
        "difference = set()\n",
        "for item in a:\n",
        "    if item not in b:\n",
        "        difference.add(item)\n",
        "\n",
        "sym_diff = set()\n",
        "for item in union:\n",
        "    if item not in intersection:\n",
        "        sym_diff.add(item)\n",
        "\n",
        "print(\"Intersection:\", intersection)\n",
        "print(\"Union:\", union)\n",
        "print(\"Difference:\", difference)\n",
        "print(\"Symmetric Difference:\", sym_diff)"
      ]
    },
    {
      "cell_type": "markdown",
      "id": "b94931e2",
      "metadata": {
        "id": "b94931e2"
      },
      "source": [
        "**59-Write a Python program to find the maximum and minimum values in a set"
      ]
    },
    {
      "cell_type": "code",
      "execution_count": null,
      "id": "203f9600",
      "metadata": {
        "id": "203f9600"
      },
      "outputs": [],
      "source": [
        "s = {7, 2, 10, 5}\n",
        "max_val = None\n",
        "min_val = None\n",
        "\n",
        "for num in s:\n",
        "    if max_val is None or num > max_val:\n",
        "        max_val = num\n",
        "    if min_val is None or num < min_val:\n",
        "        min_val = num\n",
        "\n",
        "print(\"Max:\", max_val)\n",
        "print(\"Min:\", min_val)\n"
      ]
    },
    {
      "cell_type": "markdown",
      "id": "255fd554",
      "metadata": {
        "id": "255fd554"
      },
      "source": [
        "**60- Write a Python program that finds all pairs of elements in a list whose sum is equal to a given value."
      ]
    },
    {
      "cell_type": "code",
      "execution_count": null,
      "id": "c2d94e1f",
      "metadata": {
        "id": "c2d94e1f"
      },
      "outputs": [],
      "source": [
        "nums = [2, 4, 3, 5, 7, 8, 9]\n",
        "target = 10\n",
        "pairs = []\n",
        "\n",
        "for i in range(len(nums)):\n",
        "    for j in range(i + 1, len(nums)):\n",
        "        if nums[i] + nums[j] == target:\n",
        "            pairs.append((nums[i], nums[j]))\n",
        "\n",
        "print(pairs)\n"
      ]
    }
  ],
  "metadata": {
    "colab": {
      "provenance": []
    },
    "kernelspec": {
      "display_name": "Python 3 (ipykernel)",
      "language": "python",
      "name": "python3"
    },
    "language_info": {
      "codemirror_mode": {
        "name": "ipython",
        "version": 3
      },
      "file_extension": ".py",
      "mimetype": "text/x-python",
      "name": "python",
      "nbconvert_exporter": "python",
      "pygments_lexer": "ipython3",
      "version": "3.9.7"
    }
  },
  "nbformat": 4,
  "nbformat_minor": 5
}
